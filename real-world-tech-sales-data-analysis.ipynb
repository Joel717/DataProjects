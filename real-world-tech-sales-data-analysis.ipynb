{
 "cells": [
  {
   "cell_type": "markdown",
   "id": "38fbac56",
   "metadata": {
    "papermill": {
     "duration": 0.008775,
     "end_time": "2023-08-07T10:36:12.674393",
     "exception": false,
     "start_time": "2023-08-07T10:36:12.665618",
     "status": "completed"
    },
    "tags": []
   },
   "source": [
    "# **Real World Tech Sales Data analysis**"
   ]
  },
  {
   "cell_type": "markdown",
   "id": "17459ddc",
   "metadata": {
    "papermill": {
     "duration": 0.008125,
     "end_time": "2023-08-07T10:36:12.690788",
     "exception": false,
     "start_time": "2023-08-07T10:36:12.682663",
     "status": "completed"
    },
    "tags": []
   },
   "source": [
    "This is a EDA of sales data of a tech store done primarily using pandas and matplotlib. I have tackled few of the common real world data science questions in this analysis. "
   ]
  },
  {
   "cell_type": "markdown",
   "id": "ac210533",
   "metadata": {
    "papermill": {
     "duration": 0.007675,
     "end_time": "2023-08-07T10:36:12.706582",
     "exception": false,
     "start_time": "2023-08-07T10:36:12.698907",
     "status": "completed"
    },
    "tags": []
   },
   "source": [
    "**Importing necessary packages and uploading data**"
   ]
  },
  {
   "cell_type": "code",
   "execution_count": 1,
   "id": "fe018e0b",
   "metadata": {
    "_cell_guid": "b1076dfc-b9ad-4769-8c92-a6c4dae69d19",
    "_uuid": "8f2839f25d086af736a60e9eeb907d3b93b6e0e5",
    "execution": {
     "iopub.execute_input": "2023-08-07T10:36:12.725034Z",
     "iopub.status.busy": "2023-08-07T10:36:12.724517Z",
     "iopub.status.idle": "2023-08-07T10:36:12.737405Z",
     "shell.execute_reply": "2023-08-07T10:36:12.736358Z"
    },
    "papermill": {
     "duration": 0.025051,
     "end_time": "2023-08-07T10:36:12.739756",
     "exception": false,
     "start_time": "2023-08-07T10:36:12.714705",
     "status": "completed"
    },
    "tags": []
   },
   "outputs": [],
   "source": [
    "#Importing Pandas and Os\n",
    "import pandas as pd\n",
    "import os"
   ]
  },
  {
   "cell_type": "code",
   "execution_count": 2,
   "id": "6878ba71",
   "metadata": {
    "execution": {
     "iopub.execute_input": "2023-08-07T10:36:12.759300Z",
     "iopub.status.busy": "2023-08-07T10:36:12.758862Z",
     "iopub.status.idle": "2023-08-07T10:36:12.876422Z",
     "shell.execute_reply": "2023-08-07T10:36:12.875396Z"
    },
    "papermill": {
     "duration": 0.130666,
     "end_time": "2023-08-07T10:36:12.878647",
     "exception": false,
     "start_time": "2023-08-07T10:36:12.747981",
     "status": "completed"
    },
    "tags": []
   },
   "outputs": [
    {
     "data": {
      "text/html": [
       "<div>\n",
       "<style scoped>\n",
       "    .dataframe tbody tr th:only-of-type {\n",
       "        vertical-align: middle;\n",
       "    }\n",
       "\n",
       "    .dataframe tbody tr th {\n",
       "        vertical-align: top;\n",
       "    }\n",
       "\n",
       "    .dataframe thead th {\n",
       "        text-align: right;\n",
       "    }\n",
       "</style>\n",
       "<table border=\"1\" class=\"dataframe\">\n",
       "  <thead>\n",
       "    <tr style=\"text-align: right;\">\n",
       "      <th></th>\n",
       "      <th>Order ID</th>\n",
       "      <th>Product</th>\n",
       "      <th>Quantity Ordered</th>\n",
       "      <th>Price Each</th>\n",
       "      <th>Order Date</th>\n",
       "      <th>Purchase Address</th>\n",
       "    </tr>\n",
       "  </thead>\n",
       "  <tbody>\n",
       "    <tr>\n",
       "      <th>0</th>\n",
       "      <td>176558</td>\n",
       "      <td>USB-C Charging Cable</td>\n",
       "      <td>2</td>\n",
       "      <td>11.95</td>\n",
       "      <td>04/19/19 08:46</td>\n",
       "      <td>917 1st St, Dallas, TX 75001</td>\n",
       "    </tr>\n",
       "    <tr>\n",
       "      <th>1</th>\n",
       "      <td>NaN</td>\n",
       "      <td>NaN</td>\n",
       "      <td>NaN</td>\n",
       "      <td>NaN</td>\n",
       "      <td>NaN</td>\n",
       "      <td>NaN</td>\n",
       "    </tr>\n",
       "    <tr>\n",
       "      <th>2</th>\n",
       "      <td>176559</td>\n",
       "      <td>Bose SoundSport Headphones</td>\n",
       "      <td>1</td>\n",
       "      <td>99.99</td>\n",
       "      <td>04/07/19 22:30</td>\n",
       "      <td>682 Chestnut St, Boston, MA 02215</td>\n",
       "    </tr>\n",
       "    <tr>\n",
       "      <th>3</th>\n",
       "      <td>176560</td>\n",
       "      <td>Google Phone</td>\n",
       "      <td>1</td>\n",
       "      <td>600</td>\n",
       "      <td>04/12/19 14:38</td>\n",
       "      <td>669 Spruce St, Los Angeles, CA 90001</td>\n",
       "    </tr>\n",
       "    <tr>\n",
       "      <th>4</th>\n",
       "      <td>176560</td>\n",
       "      <td>Wired Headphones</td>\n",
       "      <td>1</td>\n",
       "      <td>11.99</td>\n",
       "      <td>04/12/19 14:38</td>\n",
       "      <td>669 Spruce St, Los Angeles, CA 90001</td>\n",
       "    </tr>\n",
       "  </tbody>\n",
       "</table>\n",
       "</div>"
      ],
      "text/plain": [
       "  Order ID                     Product Quantity Ordered Price Each  \\\n",
       "0   176558        USB-C Charging Cable                2      11.95   \n",
       "1      NaN                         NaN              NaN        NaN   \n",
       "2   176559  Bose SoundSport Headphones                1      99.99   \n",
       "3   176560                Google Phone                1        600   \n",
       "4   176560            Wired Headphones                1      11.99   \n",
       "\n",
       "       Order Date                      Purchase Address  \n",
       "0  04/19/19 08:46          917 1st St, Dallas, TX 75001  \n",
       "1             NaN                                   NaN  \n",
       "2  04/07/19 22:30     682 Chestnut St, Boston, MA 02215  \n",
       "3  04/12/19 14:38  669 Spruce St, Los Angeles, CA 90001  \n",
       "4  04/12/19 14:38  669 Spruce St, Los Angeles, CA 90001  "
      ]
     },
     "execution_count": 2,
     "metadata": {},
     "output_type": "execute_result"
    }
   ],
   "source": [
    "#uploading data\n",
    "df=pd.read_csv(\"/kaggle/input/sales-analysis1/Sales_April_2019.csv\")\n",
    "df.head()"
   ]
  },
  {
   "cell_type": "code",
   "execution_count": 3,
   "id": "7f9a0b3b",
   "metadata": {
    "execution": {
     "iopub.execute_input": "2023-08-07T10:36:12.897247Z",
     "iopub.status.busy": "2023-08-07T10:36:12.896813Z",
     "iopub.status.idle": "2023-08-07T10:36:15.184947Z",
     "shell.execute_reply": "2023-08-07T10:36:15.183956Z"
    },
    "papermill": {
     "duration": 2.300334,
     "end_time": "2023-08-07T10:36:15.187448",
     "exception": false,
     "start_time": "2023-08-07T10:36:12.887114",
     "status": "completed"
    },
    "tags": []
   },
   "outputs": [],
   "source": [
    "#concatenating files into one for analysis \n",
    "files =[file for file in os.listdir('/kaggle/input/sales-analysis1')]\n",
    "months_combined = pd.DataFrame()\n",
    "\n",
    "#saving the new frame.\n",
    "for file in files:\n",
    "    df= pd.read_csv('/kaggle/input/sales-analysis1/'+ file)\n",
    "    months_combined= pd.concat([months_combined, df])\n",
    "months_combined.to_csv('months_combined.csv',index=False)"
   ]
  },
  {
   "cell_type": "code",
   "execution_count": 4,
   "id": "947781a4",
   "metadata": {
    "execution": {
     "iopub.execute_input": "2023-08-07T10:36:15.206504Z",
     "iopub.status.busy": "2023-08-07T10:36:15.205825Z",
     "iopub.status.idle": "2023-08-07T10:36:15.761369Z",
     "shell.execute_reply": "2023-08-07T10:36:15.760606Z"
    },
    "papermill": {
     "duration": 0.567929,
     "end_time": "2023-08-07T10:36:15.763850",
     "exception": false,
     "start_time": "2023-08-07T10:36:15.195921",
     "status": "completed"
    },
    "tags": []
   },
   "outputs": [
    {
     "data": {
      "text/plain": [
       "(186850, 6)"
      ]
     },
     "execution_count": 4,
     "metadata": {},
     "output_type": "execute_result"
    }
   ],
   "source": [
    "#checking the shape of the df checking the concat.\n",
    "full_df=pd.read_csv('/kaggle/working/months_combined.csv')\n",
    "full_df.shape"
   ]
  },
  {
   "cell_type": "markdown",
   "id": "b9c8cb7a",
   "metadata": {
    "papermill": {
     "duration": 0.008342,
     "end_time": "2023-08-07T10:36:15.781024",
     "exception": false,
     "start_time": "2023-08-07T10:36:15.772682",
     "status": "completed"
    },
    "tags": []
   },
   "source": [
    "**Q1: What was the best month for sales?**\n",
    "\n"
   ]
  },
  {
   "cell_type": "code",
   "execution_count": 5,
   "id": "71fb7160",
   "metadata": {
    "execution": {
     "iopub.execute_input": "2023-08-07T10:36:15.800813Z",
     "iopub.status.busy": "2023-08-07T10:36:15.800134Z",
     "iopub.status.idle": "2023-08-07T10:36:15.929553Z",
     "shell.execute_reply": "2023-08-07T10:36:15.928237Z"
    },
    "papermill": {
     "duration": 0.142981,
     "end_time": "2023-08-07T10:36:15.932794",
     "exception": false,
     "start_time": "2023-08-07T10:36:15.789813",
     "status": "completed"
    },
    "tags": []
   },
   "outputs": [
    {
     "data": {
      "text/html": [
       "<div>\n",
       "<style scoped>\n",
       "    .dataframe tbody tr th:only-of-type {\n",
       "        vertical-align: middle;\n",
       "    }\n",
       "\n",
       "    .dataframe tbody tr th {\n",
       "        vertical-align: top;\n",
       "    }\n",
       "\n",
       "    .dataframe thead th {\n",
       "        text-align: right;\n",
       "    }\n",
       "</style>\n",
       "<table border=\"1\" class=\"dataframe\">\n",
       "  <thead>\n",
       "    <tr style=\"text-align: right;\">\n",
       "      <th></th>\n",
       "      <th>Order ID</th>\n",
       "      <th>Product</th>\n",
       "      <th>Quantity Ordered</th>\n",
       "      <th>Price Each</th>\n",
       "      <th>Order Date</th>\n",
       "      <th>Purchase Address</th>\n",
       "      <th>Month</th>\n",
       "    </tr>\n",
       "  </thead>\n",
       "  <tbody>\n",
       "    <tr>\n",
       "      <th>0</th>\n",
       "      <td>236670</td>\n",
       "      <td>Wired Headphones</td>\n",
       "      <td>2</td>\n",
       "      <td>11.99</td>\n",
       "      <td>08/31/19 22:21</td>\n",
       "      <td>359 Spruce St, Seattle, WA 98101</td>\n",
       "      <td>08</td>\n",
       "    </tr>\n",
       "    <tr>\n",
       "      <th>1</th>\n",
       "      <td>236671</td>\n",
       "      <td>Bose SoundSport Headphones</td>\n",
       "      <td>1</td>\n",
       "      <td>99.99</td>\n",
       "      <td>08/15/19 15:11</td>\n",
       "      <td>492 Ridge St, Dallas, TX 75001</td>\n",
       "      <td>08</td>\n",
       "    </tr>\n",
       "    <tr>\n",
       "      <th>2</th>\n",
       "      <td>236672</td>\n",
       "      <td>iPhone</td>\n",
       "      <td>1</td>\n",
       "      <td>700.0</td>\n",
       "      <td>08/06/19 14:40</td>\n",
       "      <td>149 7th St, Portland, OR 97035</td>\n",
       "      <td>08</td>\n",
       "    </tr>\n",
       "    <tr>\n",
       "      <th>3</th>\n",
       "      <td>236673</td>\n",
       "      <td>AA Batteries (4-pack)</td>\n",
       "      <td>2</td>\n",
       "      <td>3.84</td>\n",
       "      <td>08/29/19 20:59</td>\n",
       "      <td>631 2nd St, Los Angeles, CA 90001</td>\n",
       "      <td>08</td>\n",
       "    </tr>\n",
       "    <tr>\n",
       "      <th>4</th>\n",
       "      <td>236674</td>\n",
       "      <td>AA Batteries (4-pack)</td>\n",
       "      <td>2</td>\n",
       "      <td>3.84</td>\n",
       "      <td>08/15/19 19:53</td>\n",
       "      <td>736 14th St, New York City, NY 10001</td>\n",
       "      <td>08</td>\n",
       "    </tr>\n",
       "  </tbody>\n",
       "</table>\n",
       "</div>"
      ],
      "text/plain": [
       "  Order ID                     Product Quantity Ordered Price Each  \\\n",
       "0   236670            Wired Headphones                2      11.99   \n",
       "1   236671  Bose SoundSport Headphones                1      99.99   \n",
       "2   236672                      iPhone                1      700.0   \n",
       "3   236673       AA Batteries (4-pack)                2       3.84   \n",
       "4   236674       AA Batteries (4-pack)                2       3.84   \n",
       "\n",
       "       Order Date                      Purchase Address Month  \n",
       "0  08/31/19 22:21      359 Spruce St, Seattle, WA 98101    08  \n",
       "1  08/15/19 15:11        492 Ridge St, Dallas, TX 75001    08  \n",
       "2  08/06/19 14:40        149 7th St, Portland, OR 97035    08  \n",
       "3  08/29/19 20:59     631 2nd St, Los Angeles, CA 90001    08  \n",
       "4  08/15/19 19:53  736 14th St, New York City, NY 10001    08  "
      ]
     },
     "execution_count": 5,
     "metadata": {},
     "output_type": "execute_result"
    }
   ],
   "source": [
    "#Adding a 'Month' column\n",
    "full_df['Month'] = full_df[\"Order Date\"].str[0:2]\n",
    "full_df.head()"
   ]
  },
  {
   "cell_type": "code",
   "execution_count": 6,
   "id": "9e58998a",
   "metadata": {
    "execution": {
     "iopub.execute_input": "2023-08-07T10:36:15.954082Z",
     "iopub.status.busy": "2023-08-07T10:36:15.953609Z",
     "iopub.status.idle": "2023-08-07T10:36:16.093457Z",
     "shell.execute_reply": "2023-08-07T10:36:16.092099Z"
    },
    "papermill": {
     "duration": 0.153833,
     "end_time": "2023-08-07T10:36:16.095931",
     "exception": false,
     "start_time": "2023-08-07T10:36:15.942098",
     "status": "completed"
    },
    "tags": []
   },
   "outputs": [
    {
     "name": "stdout",
     "output_type": "stream",
     "text": [
      "       Order ID                     Product Quantity Ordered Price Each  \\\n",
      "0        236670            Wired Headphones                2      11.99   \n",
      "1        236671  Bose SoundSport Headphones                1      99.99   \n",
      "2        236672                      iPhone                1      700.0   \n",
      "3        236673       AA Batteries (4-pack)                2       3.84   \n",
      "4        236674       AA Batteries (4-pack)                2       3.84   \n",
      "...         ...                         ...              ...        ...   \n",
      "186845   319666    Lightning Charging Cable                1      14.95   \n",
      "186846   319667       AA Batteries (4-pack)                2       3.84   \n",
      "186847   319668             Vareebadd Phone                1        400   \n",
      "186848   319669            Wired Headphones                1      11.99   \n",
      "186849   319670  Bose SoundSport Headphones                1      99.99   \n",
      "\n",
      "            Order Date                        Purchase Address Month  \n",
      "0       08/31/19 22:21        359 Spruce St, Seattle, WA 98101    08  \n",
      "1       08/15/19 15:11          492 Ridge St, Dallas, TX 75001    08  \n",
      "2       08/06/19 14:40          149 7th St, Portland, OR 97035    08  \n",
      "3       08/29/19 20:59       631 2nd St, Los Angeles, CA 90001    08  \n",
      "4       08/15/19 19:53    736 14th St, New York City, NY 10001    08  \n",
      "...                ...                                     ...   ...  \n",
      "186845  12/11/19 20:58  14 Madison St, San Francisco, CA 94016    12  \n",
      "186846  12/01/19 12:01    549 Willow St, Los Angeles, CA 90001    12  \n",
      "186847  12/09/19 06:43        273 Wilson St, Seattle, WA 98101    12  \n",
      "186848  12/03/19 10:39          778 River St, Dallas, TX 75001    12  \n",
      "186849  12/21/19 21:45  747 Chestnut St, Los Angeles, CA 90001    12  \n",
      "\n",
      "[186495 rows x 7 columns]\n"
     ]
    }
   ],
   "source": [
    "#Casting Month column as integer for further calculations. We can choose only the rows that have integer values in the month column \n",
    "full_df=full_df[full_df['Month']!='Or']\n",
    "print(full_df)"
   ]
  },
  {
   "cell_type": "code",
   "execution_count": 7,
   "id": "cb765b93",
   "metadata": {
    "execution": {
     "iopub.execute_input": "2023-08-07T10:36:16.116588Z",
     "iopub.status.busy": "2023-08-07T10:36:16.115829Z",
     "iopub.status.idle": "2023-08-07T10:36:16.559920Z",
     "shell.execute_reply": "2023-08-07T10:36:16.558732Z"
    },
    "papermill": {
     "duration": 0.457461,
     "end_time": "2023-08-07T10:36:16.562712",
     "exception": false,
     "start_time": "2023-08-07T10:36:16.105251",
     "status": "completed"
    },
    "tags": []
   },
   "outputs": [],
   "source": [
    "#Dropping NaN values \n",
    "full_df.dropna(inplace=True) "
   ]
  },
  {
   "cell_type": "code",
   "execution_count": 8,
   "id": "9114cbfd",
   "metadata": {
    "execution": {
     "iopub.execute_input": "2023-08-07T10:36:16.582609Z",
     "iopub.status.busy": "2023-08-07T10:36:16.582189Z",
     "iopub.status.idle": "2023-08-07T10:36:16.729007Z",
     "shell.execute_reply": "2023-08-07T10:36:16.727782Z"
    },
    "papermill": {
     "duration": 0.16001,
     "end_time": "2023-08-07T10:36:16.731762",
     "exception": false,
     "start_time": "2023-08-07T10:36:16.571752",
     "status": "completed"
    },
    "tags": []
   },
   "outputs": [],
   "source": [
    "#Casting columns as the required type for analysis \n",
    "full_df['Month']=full_df['Month'].astype(int)\n",
    "full_df['Quantity Ordered']=full_df['Quantity Ordered'].astype(int)\n",
    "full_df['Price Each']=full_df['Price Each'].astype(float)\n",
    "full_df['Puerchase Address']=full_df['Purchase Address'].astype(str)"
   ]
  },
  {
   "cell_type": "code",
   "execution_count": 9,
   "id": "490a0d5b",
   "metadata": {
    "execution": {
     "iopub.execute_input": "2023-08-07T10:36:16.753099Z",
     "iopub.status.busy": "2023-08-07T10:36:16.752709Z",
     "iopub.status.idle": "2023-08-07T10:36:16.771046Z",
     "shell.execute_reply": "2023-08-07T10:36:16.769935Z"
    },
    "papermill": {
     "duration": 0.031737,
     "end_time": "2023-08-07T10:36:16.773599",
     "exception": false,
     "start_time": "2023-08-07T10:36:16.741862",
     "status": "completed"
    },
    "tags": []
   },
   "outputs": [
    {
     "data": {
      "text/html": [
       "<div>\n",
       "<style scoped>\n",
       "    .dataframe tbody tr th:only-of-type {\n",
       "        vertical-align: middle;\n",
       "    }\n",
       "\n",
       "    .dataframe tbody tr th {\n",
       "        vertical-align: top;\n",
       "    }\n",
       "\n",
       "    .dataframe thead th {\n",
       "        text-align: right;\n",
       "    }\n",
       "</style>\n",
       "<table border=\"1\" class=\"dataframe\">\n",
       "  <thead>\n",
       "    <tr style=\"text-align: right;\">\n",
       "      <th></th>\n",
       "      <th>Order ID</th>\n",
       "      <th>Product</th>\n",
       "      <th>Quantity Ordered</th>\n",
       "      <th>Price Each</th>\n",
       "      <th>Order Date</th>\n",
       "      <th>Purchase Address</th>\n",
       "      <th>Month</th>\n",
       "      <th>Puerchase Address</th>\n",
       "      <th>Sales</th>\n",
       "    </tr>\n",
       "  </thead>\n",
       "  <tbody>\n",
       "    <tr>\n",
       "      <th>0</th>\n",
       "      <td>236670</td>\n",
       "      <td>Wired Headphones</td>\n",
       "      <td>2</td>\n",
       "      <td>11.99</td>\n",
       "      <td>08/31/19 22:21</td>\n",
       "      <td>359 Spruce St, Seattle, WA 98101</td>\n",
       "      <td>8</td>\n",
       "      <td>359 Spruce St, Seattle, WA 98101</td>\n",
       "      <td>23.98</td>\n",
       "    </tr>\n",
       "    <tr>\n",
       "      <th>1</th>\n",
       "      <td>236671</td>\n",
       "      <td>Bose SoundSport Headphones</td>\n",
       "      <td>1</td>\n",
       "      <td>99.99</td>\n",
       "      <td>08/15/19 15:11</td>\n",
       "      <td>492 Ridge St, Dallas, TX 75001</td>\n",
       "      <td>8</td>\n",
       "      <td>492 Ridge St, Dallas, TX 75001</td>\n",
       "      <td>99.99</td>\n",
       "    </tr>\n",
       "    <tr>\n",
       "      <th>2</th>\n",
       "      <td>236672</td>\n",
       "      <td>iPhone</td>\n",
       "      <td>1</td>\n",
       "      <td>700.00</td>\n",
       "      <td>08/06/19 14:40</td>\n",
       "      <td>149 7th St, Portland, OR 97035</td>\n",
       "      <td>8</td>\n",
       "      <td>149 7th St, Portland, OR 97035</td>\n",
       "      <td>700.00</td>\n",
       "    </tr>\n",
       "    <tr>\n",
       "      <th>3</th>\n",
       "      <td>236673</td>\n",
       "      <td>AA Batteries (4-pack)</td>\n",
       "      <td>2</td>\n",
       "      <td>3.84</td>\n",
       "      <td>08/29/19 20:59</td>\n",
       "      <td>631 2nd St, Los Angeles, CA 90001</td>\n",
       "      <td>8</td>\n",
       "      <td>631 2nd St, Los Angeles, CA 90001</td>\n",
       "      <td>7.68</td>\n",
       "    </tr>\n",
       "    <tr>\n",
       "      <th>4</th>\n",
       "      <td>236674</td>\n",
       "      <td>AA Batteries (4-pack)</td>\n",
       "      <td>2</td>\n",
       "      <td>3.84</td>\n",
       "      <td>08/15/19 19:53</td>\n",
       "      <td>736 14th St, New York City, NY 10001</td>\n",
       "      <td>8</td>\n",
       "      <td>736 14th St, New York City, NY 10001</td>\n",
       "      <td>7.68</td>\n",
       "    </tr>\n",
       "  </tbody>\n",
       "</table>\n",
       "</div>"
      ],
      "text/plain": [
       "  Order ID                     Product  Quantity Ordered  Price Each  \\\n",
       "0   236670            Wired Headphones                 2       11.99   \n",
       "1   236671  Bose SoundSport Headphones                 1       99.99   \n",
       "2   236672                      iPhone                 1      700.00   \n",
       "3   236673       AA Batteries (4-pack)                 2        3.84   \n",
       "4   236674       AA Batteries (4-pack)                 2        3.84   \n",
       "\n",
       "       Order Date                      Purchase Address  Month  \\\n",
       "0  08/31/19 22:21      359 Spruce St, Seattle, WA 98101      8   \n",
       "1  08/15/19 15:11        492 Ridge St, Dallas, TX 75001      8   \n",
       "2  08/06/19 14:40        149 7th St, Portland, OR 97035      8   \n",
       "3  08/29/19 20:59     631 2nd St, Los Angeles, CA 90001      8   \n",
       "4  08/15/19 19:53  736 14th St, New York City, NY 10001      8   \n",
       "\n",
       "                      Puerchase Address   Sales  \n",
       "0      359 Spruce St, Seattle, WA 98101   23.98  \n",
       "1        492 Ridge St, Dallas, TX 75001   99.99  \n",
       "2        149 7th St, Portland, OR 97035  700.00  \n",
       "3     631 2nd St, Los Angeles, CA 90001    7.68  \n",
       "4  736 14th St, New York City, NY 10001    7.68  "
      ]
     },
     "execution_count": 9,
     "metadata": {},
     "output_type": "execute_result"
    }
   ],
   "source": [
    "#creating 'Sales' column to calculate the total sum of the product ordered \n",
    "full_df['Sales']=full_df['Quantity Ordered']*full_df['Price Each']\n",
    "\n",
    "full_df.head()"
   ]
  },
  {
   "cell_type": "code",
   "execution_count": 10,
   "id": "c15769cc",
   "metadata": {
    "execution": {
     "iopub.execute_input": "2023-08-07T10:36:16.794295Z",
     "iopub.status.busy": "2023-08-07T10:36:16.793892Z",
     "iopub.status.idle": "2023-08-07T10:36:17.115352Z",
     "shell.execute_reply": "2023-08-07T10:36:17.114101Z"
    },
    "papermill": {
     "duration": 0.334729,
     "end_time": "2023-08-07T10:36:17.117999",
     "exception": false,
     "start_time": "2023-08-07T10:36:16.783270",
     "status": "completed"
    },
    "tags": []
   },
   "outputs": [
    {
     "name": "stderr",
     "output_type": "stream",
     "text": [
      "/tmp/ipykernel_20/4135084982.py:2: FutureWarning: The default value of numeric_only in DataFrameGroupBy.sum is deprecated. In a future version, numeric_only will default to False. Either specify numeric_only or select only columns which should be valid for the function.\n",
      "  plot=full_df.groupby('Month').sum()\n"
     ]
    },
    {
     "data": {
      "image/png": "[encoded data removed]",
      "text/plain": [
       "<Figure size 640x480 with 1 Axes>"
      ]
     },
     "metadata": {},
     "output_type": "display_data"
    }
   ],
   "source": [
    "#Grouping by 'Month' column and plotting the result\n",
    "plot=full_df.groupby('Month').sum()\n",
    "import matplotlib.pyplot as plt\n",
    "months = range(1,13)\n",
    "plt.bar(months,plot['Sales'])\n",
    "plt.xticks(months)\n",
    "plt.ylabel('Sales in B$')\n",
    "plt.xlabel('Months')\n",
    "plt.show()\n"
   ]
  },
  {
   "cell_type": "markdown",
   "id": "19fd3cd9",
   "metadata": {
    "papermill": {
     "duration": 0.009451,
     "end_time": "2023-08-07T10:36:17.137420",
     "exception": false,
     "start_time": "2023-08-07T10:36:17.127969",
     "status": "completed"
    },
    "tags": []
   },
   "source": [
    "**Q2:What is the highest revenue generating city?**"
   ]
  },
  {
   "cell_type": "code",
   "execution_count": 11,
   "id": "132917e7",
   "metadata": {
    "execution": {
     "iopub.execute_input": "2023-08-07T10:36:17.158627Z",
     "iopub.status.busy": "2023-08-07T10:36:17.158233Z",
     "iopub.status.idle": "2023-08-07T10:36:17.612967Z",
     "shell.execute_reply": "2023-08-07T10:36:17.611905Z"
    },
    "papermill": {
     "duration": 0.468363,
     "end_time": "2023-08-07T10:36:17.615503",
     "exception": false,
     "start_time": "2023-08-07T10:36:17.147140",
     "status": "completed"
    },
    "tags": []
   },
   "outputs": [
    {
     "data": {
      "text/html": [
       "<div>\n",
       "<style scoped>\n",
       "    .dataframe tbody tr th:only-of-type {\n",
       "        vertical-align: middle;\n",
       "    }\n",
       "\n",
       "    .dataframe tbody tr th {\n",
       "        vertical-align: top;\n",
       "    }\n",
       "\n",
       "    .dataframe thead th {\n",
       "        text-align: right;\n",
       "    }\n",
       "</style>\n",
       "<table border=\"1\" class=\"dataframe\">\n",
       "  <thead>\n",
       "    <tr style=\"text-align: right;\">\n",
       "      <th></th>\n",
       "      <th>Order ID</th>\n",
       "      <th>Product</th>\n",
       "      <th>Quantity Ordered</th>\n",
       "      <th>Price Each</th>\n",
       "      <th>Order Date</th>\n",
       "      <th>Purchase Address</th>\n",
       "      <th>Month</th>\n",
       "      <th>Puerchase Address</th>\n",
       "      <th>Sales</th>\n",
       "      <th>City</th>\n",
       "    </tr>\n",
       "  </thead>\n",
       "  <tbody>\n",
       "    <tr>\n",
       "      <th>0</th>\n",
       "      <td>236670</td>\n",
       "      <td>Wired Headphones</td>\n",
       "      <td>2</td>\n",
       "      <td>11.99</td>\n",
       "      <td>08/31/19 22:21</td>\n",
       "      <td>359 Spruce St, Seattle, WA 98101</td>\n",
       "      <td>8</td>\n",
       "      <td>359 Spruce St, Seattle, WA 98101</td>\n",
       "      <td>23.98</td>\n",
       "      <td>Seattle (WA)</td>\n",
       "    </tr>\n",
       "    <tr>\n",
       "      <th>1</th>\n",
       "      <td>236671</td>\n",
       "      <td>Bose SoundSport Headphones</td>\n",
       "      <td>1</td>\n",
       "      <td>99.99</td>\n",
       "      <td>08/15/19 15:11</td>\n",
       "      <td>492 Ridge St, Dallas, TX 75001</td>\n",
       "      <td>8</td>\n",
       "      <td>492 Ridge St, Dallas, TX 75001</td>\n",
       "      <td>99.99</td>\n",
       "      <td>Dallas (TX)</td>\n",
       "    </tr>\n",
       "    <tr>\n",
       "      <th>2</th>\n",
       "      <td>236672</td>\n",
       "      <td>iPhone</td>\n",
       "      <td>1</td>\n",
       "      <td>700.00</td>\n",
       "      <td>08/06/19 14:40</td>\n",
       "      <td>149 7th St, Portland, OR 97035</td>\n",
       "      <td>8</td>\n",
       "      <td>149 7th St, Portland, OR 97035</td>\n",
       "      <td>700.00</td>\n",
       "      <td>Portland (OR)</td>\n",
       "    </tr>\n",
       "    <tr>\n",
       "      <th>3</th>\n",
       "      <td>236673</td>\n",
       "      <td>AA Batteries (4-pack)</td>\n",
       "      <td>2</td>\n",
       "      <td>3.84</td>\n",
       "      <td>08/29/19 20:59</td>\n",
       "      <td>631 2nd St, Los Angeles, CA 90001</td>\n",
       "      <td>8</td>\n",
       "      <td>631 2nd St, Los Angeles, CA 90001</td>\n",
       "      <td>7.68</td>\n",
       "      <td>Los Angeles (CA)</td>\n",
       "    </tr>\n",
       "    <tr>\n",
       "      <th>4</th>\n",
       "      <td>236674</td>\n",
       "      <td>AA Batteries (4-pack)</td>\n",
       "      <td>2</td>\n",
       "      <td>3.84</td>\n",
       "      <td>08/15/19 19:53</td>\n",
       "      <td>736 14th St, New York City, NY 10001</td>\n",
       "      <td>8</td>\n",
       "      <td>736 14th St, New York City, NY 10001</td>\n",
       "      <td>7.68</td>\n",
       "      <td>New York City (NY)</td>\n",
       "    </tr>\n",
       "  </tbody>\n",
       "</table>\n",
       "</div>"
      ],
      "text/plain": [
       "  Order ID                     Product  Quantity Ordered  Price Each  \\\n",
       "0   236670            Wired Headphones                 2       11.99   \n",
       "1   236671  Bose SoundSport Headphones                 1       99.99   \n",
       "2   236672                      iPhone                 1      700.00   \n",
       "3   236673       AA Batteries (4-pack)                 2        3.84   \n",
       "4   236674       AA Batteries (4-pack)                 2        3.84   \n",
       "\n",
       "       Order Date                      Purchase Address  Month  \\\n",
       "0  08/31/19 22:21      359 Spruce St, Seattle, WA 98101      8   \n",
       "1  08/15/19 15:11        492 Ridge St, Dallas, TX 75001      8   \n",
       "2  08/06/19 14:40        149 7th St, Portland, OR 97035      8   \n",
       "3  08/29/19 20:59     631 2nd St, Los Angeles, CA 90001      8   \n",
       "4  08/15/19 19:53  736 14th St, New York City, NY 10001      8   \n",
       "\n",
       "                      Puerchase Address   Sales                City  \n",
       "0      359 Spruce St, Seattle, WA 98101   23.98        Seattle (WA)  \n",
       "1        492 Ridge St, Dallas, TX 75001   99.99         Dallas (TX)  \n",
       "2        149 7th St, Portland, OR 97035  700.00       Portland (OR)  \n",
       "3     631 2nd St, Los Angeles, CA 90001    7.68    Los Angeles (CA)  \n",
       "4  736 14th St, New York City, NY 10001    7.68  New York City (NY)  "
      ]
     },
     "execution_count": 11,
     "metadata": {},
     "output_type": "execute_result"
    }
   ],
   "source": [
    "#Extracting city names from address \n",
    "def city_name(purchase_address):\n",
    "    address_parts = purchase_address.split(',')\n",
    "    if len(address_parts) >= 2:\n",
    "        return address_parts[1].strip()\n",
    "def state_name(purchase_address):\n",
    "    return purchase_address.split(',')[2].split(' ')[1]\n",
    "#Adding a new 'City' column\n",
    "full_df['City'] = full_df['Purchase Address'].apply(lambda x: city_name(x) + \" (\"+state_name(x)+')')\n",
    "full_df.head()\n"
   ]
  },
  {
   "cell_type": "code",
   "execution_count": 12,
   "id": "7a566fb0",
   "metadata": {
    "execution": {
     "iopub.execute_input": "2023-08-07T10:36:17.637568Z",
     "iopub.status.busy": "2023-08-07T10:36:17.636849Z",
     "iopub.status.idle": "2023-08-07T10:36:18.107942Z",
     "shell.execute_reply": "2023-08-07T10:36:18.106680Z"
    },
    "papermill": {
     "duration": 0.484872,
     "end_time": "2023-08-07T10:36:18.110480",
     "exception": false,
     "start_time": "2023-08-07T10:36:17.625608",
     "status": "completed"
    },
    "tags": []
   },
   "outputs": [
    {
     "name": "stderr",
     "output_type": "stream",
     "text": [
      "/tmp/ipykernel_20/1180526797.py:2: FutureWarning: The default value of numeric_only in DataFrameGroupBy.sum is deprecated. In a future version, numeric_only will default to False. Either specify numeric_only or select only columns which should be valid for the function.\n",
      "  plot=full_df.groupby('City').sum()\n"
     ]
    },
    {
     "data": {
      "image/png": "[encoded data removed]",
      "text/plain": [
       "<Figure size 640x480 with 1 Axes>"
      ]
     },
     "metadata": {},
     "output_type": "display_data"
    }
   ],
   "source": [
    "#Grouping by city and plotting the results \n",
    "plot=full_df.groupby('City').sum()\n",
    "cities=[city for city,df in full_df.groupby('City')]\n",
    "plt.bar(cities,plot['Sales'])\n",
    "plt.xticks(cities,rotation='vertical',size=8)\n",
    "plt.ylabel('sales in usd')\n",
    "plt.xlabel('city name')\n",
    "plt.show()"
   ]
  },
  {
   "cell_type": "markdown",
   "id": "884c15d3",
   "metadata": {
    "papermill": {
     "duration": 0.010909,
     "end_time": "2023-08-07T10:36:18.132112",
     "exception": false,
     "start_time": "2023-08-07T10:36:18.121203",
     "status": "completed"
    },
    "tags": []
   },
   "source": [
    "**Q3:What is the best time for advertising?**"
   ]
  },
  {
   "cell_type": "code",
   "execution_count": 13,
   "id": "5fdef8a1",
   "metadata": {
    "execution": {
     "iopub.execute_input": "2023-08-07T10:36:18.154733Z",
     "iopub.status.busy": "2023-08-07T10:36:18.154343Z",
     "iopub.status.idle": "2023-08-07T10:36:38.653650Z",
     "shell.execute_reply": "2023-08-07T10:36:38.652399Z"
    },
    "papermill": {
     "duration": 20.51441,
     "end_time": "2023-08-07T10:36:38.656950",
     "exception": false,
     "start_time": "2023-08-07T10:36:18.142540",
     "status": "completed"
    },
    "tags": []
   },
   "outputs": [],
   "source": [
    "#Casting 'Order Date' column as time using datetime()\n",
    "full_df['Order Date']=pd.to_datetime(full_df['Order Date'])\n"
   ]
  },
  {
   "cell_type": "code",
   "execution_count": 14,
   "id": "bc1bccc0",
   "metadata": {
    "execution": {
     "iopub.execute_input": "2023-08-07T10:36:38.680221Z",
     "iopub.status.busy": "2023-08-07T10:36:38.679793Z",
     "iopub.status.idle": "2023-08-07T10:36:38.717464Z",
     "shell.execute_reply": "2023-08-07T10:36:38.716467Z"
    },
    "papermill": {
     "duration": 0.05269,
     "end_time": "2023-08-07T10:36:38.720290",
     "exception": false,
     "start_time": "2023-08-07T10:36:38.667600",
     "status": "completed"
    },
    "tags": []
   },
   "outputs": [
    {
     "data": {
      "text/html": [
       "<div>\n",
       "<style scoped>\n",
       "    .dataframe tbody tr th:only-of-type {\n",
       "        vertical-align: middle;\n",
       "    }\n",
       "\n",
       "    .dataframe tbody tr th {\n",
       "        vertical-align: top;\n",
       "    }\n",
       "\n",
       "    .dataframe thead th {\n",
       "        text-align: right;\n",
       "    }\n",
       "</style>\n",
       "<table border=\"1\" class=\"dataframe\">\n",
       "  <thead>\n",
       "    <tr style=\"text-align: right;\">\n",
       "      <th></th>\n",
       "      <th>Order ID</th>\n",
       "      <th>Product</th>\n",
       "      <th>Quantity Ordered</th>\n",
       "      <th>Price Each</th>\n",
       "      <th>Order Date</th>\n",
       "      <th>Purchase Address</th>\n",
       "      <th>Month</th>\n",
       "      <th>Puerchase Address</th>\n",
       "      <th>Sales</th>\n",
       "      <th>City</th>\n",
       "      <th>Hour</th>\n",
       "    </tr>\n",
       "  </thead>\n",
       "  <tbody>\n",
       "    <tr>\n",
       "      <th>0</th>\n",
       "      <td>236670</td>\n",
       "      <td>Wired Headphones</td>\n",
       "      <td>2</td>\n",
       "      <td>11.99</td>\n",
       "      <td>2019-08-31 22:21:00</td>\n",
       "      <td>359 Spruce St, Seattle, WA 98101</td>\n",
       "      <td>8</td>\n",
       "      <td>359 Spruce St, Seattle, WA 98101</td>\n",
       "      <td>23.98</td>\n",
       "      <td>Seattle (WA)</td>\n",
       "      <td>22</td>\n",
       "    </tr>\n",
       "    <tr>\n",
       "      <th>1</th>\n",
       "      <td>236671</td>\n",
       "      <td>Bose SoundSport Headphones</td>\n",
       "      <td>1</td>\n",
       "      <td>99.99</td>\n",
       "      <td>2019-08-15 15:11:00</td>\n",
       "      <td>492 Ridge St, Dallas, TX 75001</td>\n",
       "      <td>8</td>\n",
       "      <td>492 Ridge St, Dallas, TX 75001</td>\n",
       "      <td>99.99</td>\n",
       "      <td>Dallas (TX)</td>\n",
       "      <td>15</td>\n",
       "    </tr>\n",
       "    <tr>\n",
       "      <th>2</th>\n",
       "      <td>236672</td>\n",
       "      <td>iPhone</td>\n",
       "      <td>1</td>\n",
       "      <td>700.00</td>\n",
       "      <td>2019-08-06 14:40:00</td>\n",
       "      <td>149 7th St, Portland, OR 97035</td>\n",
       "      <td>8</td>\n",
       "      <td>149 7th St, Portland, OR 97035</td>\n",
       "      <td>700.00</td>\n",
       "      <td>Portland (OR)</td>\n",
       "      <td>14</td>\n",
       "    </tr>\n",
       "    <tr>\n",
       "      <th>3</th>\n",
       "      <td>236673</td>\n",
       "      <td>AA Batteries (4-pack)</td>\n",
       "      <td>2</td>\n",
       "      <td>3.84</td>\n",
       "      <td>2019-08-29 20:59:00</td>\n",
       "      <td>631 2nd St, Los Angeles, CA 90001</td>\n",
       "      <td>8</td>\n",
       "      <td>631 2nd St, Los Angeles, CA 90001</td>\n",
       "      <td>7.68</td>\n",
       "      <td>Los Angeles (CA)</td>\n",
       "      <td>20</td>\n",
       "    </tr>\n",
       "    <tr>\n",
       "      <th>4</th>\n",
       "      <td>236674</td>\n",
       "      <td>AA Batteries (4-pack)</td>\n",
       "      <td>2</td>\n",
       "      <td>3.84</td>\n",
       "      <td>2019-08-15 19:53:00</td>\n",
       "      <td>736 14th St, New York City, NY 10001</td>\n",
       "      <td>8</td>\n",
       "      <td>736 14th St, New York City, NY 10001</td>\n",
       "      <td>7.68</td>\n",
       "      <td>New York City (NY)</td>\n",
       "      <td>19</td>\n",
       "    </tr>\n",
       "  </tbody>\n",
       "</table>\n",
       "</div>"
      ],
      "text/plain": [
       "  Order ID                     Product  Quantity Ordered  Price Each  \\\n",
       "0   236670            Wired Headphones                 2       11.99   \n",
       "1   236671  Bose SoundSport Headphones                 1       99.99   \n",
       "2   236672                      iPhone                 1      700.00   \n",
       "3   236673       AA Batteries (4-pack)                 2        3.84   \n",
       "4   236674       AA Batteries (4-pack)                 2        3.84   \n",
       "\n",
       "           Order Date                      Purchase Address  Month  \\\n",
       "0 2019-08-31 22:21:00      359 Spruce St, Seattle, WA 98101      8   \n",
       "1 2019-08-15 15:11:00        492 Ridge St, Dallas, TX 75001      8   \n",
       "2 2019-08-06 14:40:00        149 7th St, Portland, OR 97035      8   \n",
       "3 2019-08-29 20:59:00     631 2nd St, Los Angeles, CA 90001      8   \n",
       "4 2019-08-15 19:53:00  736 14th St, New York City, NY 10001      8   \n",
       "\n",
       "                      Puerchase Address   Sales                City  Hour  \n",
       "0      359 Spruce St, Seattle, WA 98101   23.98        Seattle (WA)    22  \n",
       "1        492 Ridge St, Dallas, TX 75001   99.99         Dallas (TX)    15  \n",
       "2        149 7th St, Portland, OR 97035  700.00       Portland (OR)    14  \n",
       "3     631 2nd St, Los Angeles, CA 90001    7.68    Los Angeles (CA)    20  \n",
       "4  736 14th St, New York City, NY 10001    7.68  New York City (NY)    19  "
      ]
     },
     "execution_count": 14,
     "metadata": {},
     "output_type": "execute_result"
    }
   ],
   "source": [
    "#Creating 'Hour' column with only hour from 'Order Date'\n",
    "full_df['Hour']=full_df['Order Date'].dt.hour\n",
    "full_df.head()"
   ]
  },
  {
   "cell_type": "code",
   "execution_count": 15,
   "id": "8aba77e0",
   "metadata": {
    "execution": {
     "iopub.execute_input": "2023-08-07T10:36:38.743584Z",
     "iopub.status.busy": "2023-08-07T10:36:38.743200Z",
     "iopub.status.idle": "2023-08-07T10:36:39.476083Z",
     "shell.execute_reply": "2023-08-07T10:36:39.474925Z"
    },
    "papermill": {
     "duration": 0.747562,
     "end_time": "2023-08-07T10:36:39.478701",
     "exception": false,
     "start_time": "2023-08-07T10:36:38.731139",
     "status": "completed"
    },
    "tags": []
   },
   "outputs": [
    {
     "data": {
      "image/png": "[encoded data removed]",
      "text/plain": [
       "<Figure size 640x480 with 1 Axes>"
      ]
     },
     "metadata": {},
     "output_type": "display_data"
    }
   ],
   "source": [
    "#Grouping by 'Hour' and plotting the count\n",
    "hours=[hour for hour,df in full_df.groupby('Hour')]\n",
    "\n",
    "plt.plot(full_df.groupby('Hour').count())\n",
    "plt.xticks(hours)\n",
    "plt.grid()\n",
    "plt.show()"
   ]
  },
  {
   "cell_type": "markdown",
   "id": "a9086f44",
   "metadata": {
    "papermill": {
     "duration": 0.010928,
     "end_time": "2023-08-07T10:36:39.501126",
     "exception": false,
     "start_time": "2023-08-07T10:36:39.490198",
     "status": "completed"
    },
    "tags": []
   },
   "source": [
    "**Q3:What products were sold together the most?**"
   ]
  },
  {
   "cell_type": "code",
   "execution_count": 16,
   "id": "a29637e6",
   "metadata": {
    "execution": {
     "iopub.execute_input": "2023-08-07T10:36:39.525456Z",
     "iopub.status.busy": "2023-08-07T10:36:39.525013Z",
     "iopub.status.idle": "2023-08-07T10:36:40.618569Z",
     "shell.execute_reply": "2023-08-07T10:36:40.617572Z"
    },
    "papermill": {
     "duration": 1.10855,
     "end_time": "2023-08-07T10:36:40.620925",
     "exception": false,
     "start_time": "2023-08-07T10:36:39.512375",
     "status": "completed"
    },
    "tags": []
   },
   "outputs": [
    {
     "name": "stderr",
     "output_type": "stream",
     "text": [
      "/tmp/ipykernel_20/3583397070.py:3: SettingWithCopyWarning: \n",
      "A value is trying to be set on a copy of a slice from a DataFrame.\n",
      "Try using .loc[row_indexer,col_indexer] = value instead\n",
      "\n",
      "See the caveats in the documentation: https://pandas.pydata.org/pandas-docs/stable/user_guide/indexing.html#returning-a-view-versus-a-copy\n",
      "  df['Grouped']=df.groupby('Order ID')['Product'].transform(lambda x: ','.join(x))\n"
     ]
    },
    {
     "data": {
      "text/html": [
       "<div>\n",
       "<style scoped>\n",
       "    .dataframe tbody tr th:only-of-type {\n",
       "        vertical-align: middle;\n",
       "    }\n",
       "\n",
       "    .dataframe tbody tr th {\n",
       "        vertical-align: top;\n",
       "    }\n",
       "\n",
       "    .dataframe thead th {\n",
       "        text-align: right;\n",
       "    }\n",
       "</style>\n",
       "<table border=\"1\" class=\"dataframe\">\n",
       "  <thead>\n",
       "    <tr style=\"text-align: right;\">\n",
       "      <th></th>\n",
       "      <th>Order ID</th>\n",
       "      <th>Grouped</th>\n",
       "    </tr>\n",
       "  </thead>\n",
       "  <tbody>\n",
       "    <tr>\n",
       "      <th>46</th>\n",
       "      <td>236716</td>\n",
       "      <td>AA Batteries (4-pack),USB-C Charging Cable</td>\n",
       "    </tr>\n",
       "    <tr>\n",
       "      <th>60</th>\n",
       "      <td>236729</td>\n",
       "      <td>iPhone,Apple Airpods Headphones</td>\n",
       "    </tr>\n",
       "    <tr>\n",
       "      <th>62</th>\n",
       "      <td>236730</td>\n",
       "      <td>Google Phone,Wired Headphones</td>\n",
       "    </tr>\n",
       "    <tr>\n",
       "      <th>132</th>\n",
       "      <td>236799</td>\n",
       "      <td>Google Phone,Wired Headphones</td>\n",
       "    </tr>\n",
       "    <tr>\n",
       "      <th>163</th>\n",
       "      <td>236829</td>\n",
       "      <td>Vareebadd Phone,USB-C Charging Cable</td>\n",
       "    </tr>\n",
       "  </tbody>\n",
       "</table>\n",
       "</div>"
      ],
      "text/plain": [
       "    Order ID                                     Grouped\n",
       "46    236716  AA Batteries (4-pack),USB-C Charging Cable\n",
       "60    236729             iPhone,Apple Airpods Headphones\n",
       "62    236730               Google Phone,Wired Headphones\n",
       "132   236799               Google Phone,Wired Headphones\n",
       "163   236829        Vareebadd Phone,USB-C Charging Cable"
      ]
     },
     "execution_count": 16,
     "metadata": {},
     "output_type": "execute_result"
    }
   ],
   "source": [
    "#Finding duplicated order IDs since purchases made together havem the same order ID\n",
    "df= full_df[full_df['Order ID'].duplicated(keep=False)]\n",
    "df['Grouped']=df.groupby('Order ID')['Product'].transform(lambda x: ','.join(x))\n",
    "df=df[['Order ID','Grouped']].drop_duplicates()\n",
    "df.head()\n"
   ]
  },
  {
   "cell_type": "code",
   "execution_count": 17,
   "id": "4c41ca47",
   "metadata": {
    "execution": {
     "iopub.execute_input": "2023-08-07T10:36:40.646122Z",
     "iopub.status.busy": "2023-08-07T10:36:40.645721Z",
     "iopub.status.idle": "2023-08-07T10:36:40.698511Z",
     "shell.execute_reply": "2023-08-07T10:36:40.697532Z"
    },
    "papermill": {
     "duration": 0.068445,
     "end_time": "2023-08-07T10:36:40.701046",
     "exception": false,
     "start_time": "2023-08-07T10:36:40.632601",
     "status": "completed"
    },
    "tags": []
   },
   "outputs": [
    {
     "name": "stdout",
     "output_type": "stream",
     "text": [
      "('iPhone', 'Lightning Charging Cable') 1005\n",
      "('Google Phone', 'USB-C Charging Cable') 987\n",
      "('iPhone', 'Wired Headphones') 447\n",
      "('Google Phone', 'Wired Headphones') 414\n",
      "('Vareebadd Phone', 'USB-C Charging Cable') 361\n",
      "('iPhone', 'Apple Airpods Headphones') 360\n",
      "('Google Phone', 'Bose SoundSport Headphones') 220\n",
      "('USB-C Charging Cable', 'Wired Headphones') 160\n",
      "('Vareebadd Phone', 'Wired Headphones') 143\n",
      "('Lightning Charging Cable', 'Wired Headphones') 92\n"
     ]
    }
   ],
   "source": [
    "#Importing combinations and Counter to count the combinations of products sold together \n",
    "from itertools import combinations \n",
    "from collections import Counter\n",
    "\n",
    "count = Counter()\n",
    "\n",
    "for row in df['Grouped']:\n",
    "    split_row = row.split(',')\n",
    "    count.update(Counter(combinations(split_row,2)))\n",
    "    \n",
    "    \n",
    "for key,value in count.most_common(10):\n",
    "    print(key,value)"
   ]
  },
  {
   "cell_type": "code",
   "execution_count": 18,
   "id": "0291cb09",
   "metadata": {
    "execution": {
     "iopub.execute_input": "2023-08-07T10:36:40.727039Z",
     "iopub.status.busy": "2023-08-07T10:36:40.726599Z",
     "iopub.status.idle": "2023-08-07T10:36:41.187038Z",
     "shell.execute_reply": "2023-08-07T10:36:41.185955Z"
    },
    "papermill": {
     "duration": 0.476455,
     "end_time": "2023-08-07T10:36:41.189755",
     "exception": false,
     "start_time": "2023-08-07T10:36:40.713300",
     "status": "completed"
    },
    "tags": []
   },
   "outputs": [
    {
     "name": "stderr",
     "output_type": "stream",
     "text": [
      "/tmp/ipykernel_20/1487767570.py:3: FutureWarning: The default value of numeric_only in DataFrameGroupBy.sum is deprecated. In a future version, numeric_only will default to False. Either specify numeric_only or select only columns which should be valid for the function.\n",
      "  quantity_ordered= product_group.sum()['Quantity Ordered']\n"
     ]
    },
    {
     "data": {
      "image/png": "[encoded data removed]",
      "text/plain": [
       "<Figure size 640x480 with 1 Axes>"
      ]
     },
     "metadata": {},
     "output_type": "display_data"
    }
   ],
   "source": [
    "#plotting the result\n",
    "product_group = full_df.groupby('Product')\n",
    "quantity_ordered= product_group.sum()['Quantity Ordered']\n",
    "\n",
    "products = [product for product,df in product_group]\n",
    "\n",
    "plt.bar(products,quantity_ordered)\n",
    "plt.xlabel('Products')\n",
    "plt.xticks(products,rotation='vertical',size = 8 )\n",
    "plt.ylabel('Quantity Ordered')\n",
    "plt.show()\n"
   ]
  },
  {
   "cell_type": "markdown",
   "id": "dbfe5168",
   "metadata": {
    "papermill": {
     "duration": 0.012286,
     "end_time": "2023-08-07T10:36:41.214664",
     "exception": false,
     "start_time": "2023-08-07T10:36:41.202378",
     "status": "completed"
    },
    "tags": []
   },
   "source": []
  },
  {
   "cell_type": "code",
   "execution_count": null,
   "id": "2996667d",
   "metadata": {
    "papermill": {
     "duration": 0.012296,
     "end_time": "2023-08-07T10:36:41.239728",
     "exception": false,
     "start_time": "2023-08-07T10:36:41.227432",
     "status": "completed"
    },
    "tags": []
   },
   "outputs": [],
   "source": []
  }
 ],
 "metadata": {
  "kernelspec": {
   "display_name": "Python 3",
   "language": "python",
   "name": "python3"
  },
  "language_info": {
   "codemirror_mode": {
    "name": "ipython",
    "version": 3
   },
   "file_extension": ".py",
   "mimetype": "text/x-python",
   "name": "python",
   "nbconvert_exporter": "python",
   "pygments_lexer": "ipython3",
   "version": "3.10.10"
  },
  "papermill": {
   "default_parameters": {},
   "duration": 42.634128,
   "end_time": "2023-08-07T10:36:42.174969",
   "environment_variables": {},
   "exception": null,
   "input_path": "__notebook__.ipynb",
   "output_path": "__notebook__.ipynb",
   "parameters": {},
   "start_time": "2023-08-07T10:35:59.540841",
   "version": "2.4.0"
  }
 },
 "nbformat": 4,
 "nbformat_minor": 5
}
