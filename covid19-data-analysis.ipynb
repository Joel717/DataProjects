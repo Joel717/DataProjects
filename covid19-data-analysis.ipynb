{
 "cells": [
  {
   "cell_type": "markdown",
   "id": "b4b19054",
   "metadata": {
    "papermill": {
     "duration": 0.004223,
     "end_time": "2023-08-07T10:38:28.440699",
     "exception": false,
     "start_time": "2023-08-07T10:38:28.436476",
     "status": "completed"
    },
    "tags": []
   },
   "source": [
    "# Covid19 Data Analysis."
   ]
  },
  {
   "cell_type": "markdown",
   "id": "67dd52ab",
   "metadata": {
    "papermill": {
     "duration": 0.003477,
     "end_time": "2023-08-07T10:38:28.448231",
     "exception": false,
     "start_time": "2023-08-07T10:38:28.444754",
     "status": "completed"
    },
    "tags": []
   },
   "source": [
    "This notebook showcases my data analysis on covid19 data. The data is from ourworldindata.org (https://ourworldindata.org/covid-deaths).The data is updated everyday from reliable sources. I have chosen the data from 01/01/2020 to 30/04/2021 since, the pandemic was at its peak between these dates. I have used SQL to clean the data and tableau to visualize it. The fundamental motive of this analysis is to get a summarized view of the covid 19 data respective of different locations. \n",
    "\n",
    "note: SQL is not supported by Kaggle i.e This notebook cannot run the SQL queries below. I have used Kaggle as a platform to showcase my work. I understand that SQL queries can be read through pandas read_sql() but for the sake of simplicity I have avoided that. "
   ]
  },
  {
   "cell_type": "markdown",
   "id": "6742ae96",
   "metadata": {
    "papermill": {
     "duration": 0.003391,
     "end_time": "2023-08-07T10:38:28.455338",
     "exception": false,
     "start_time": "2023-08-07T10:38:28.451947",
     "status": "completed"
    },
    "tags": []
   },
   "source": [
    "****Finding the death percentage of India ****"
   ]
  },
  {
   "cell_type": "code",
   "execution_count": 1,
   "id": "68c07a13",
   "metadata": {
    "execution": {
     "iopub.execute_input": "2023-08-07T10:38:28.465326Z",
     "iopub.status.busy": "2023-08-07T10:38:28.464499Z",
     "iopub.status.idle": "2023-08-07T10:38:28.469569Z",
     "shell.execute_reply": "2023-08-07T10:38:28.468672Z"
    },
    "papermill": {
     "duration": 0.01447,
     "end_time": "2023-08-07T10:38:28.473517",
     "exception": false,
     "start_time": "2023-08-07T10:38:28.459047",
     "status": "completed"
    },
    "tags": []
   },
   "outputs": [],
   "source": [
    "#select location,date,total_cases,total_deaths,population,(total_deaths/total_cases)*100 as death_percent\n",
    "#from sqlproject..coviddeaths\n",
    "#where location ='India'\n",
    "#order by 1,2\n"
   ]
  },
  {
   "cell_type": "markdown",
   "id": "7cfeb6a5",
   "metadata": {
    "papermill": {
     "duration": 0.003482,
     "end_time": "2023-08-07T10:38:28.480866",
     "exception": false,
     "start_time": "2023-08-07T10:38:28.477384",
     "status": "completed"
    },
    "tags": []
   },
   "source": [
    "****Total international deaths ****"
   ]
  },
  {
   "cell_type": "code",
   "execution_count": 2,
   "id": "bb6cc3b5",
   "metadata": {
    "execution": {
     "iopub.execute_input": "2023-08-07T10:38:28.490439Z",
     "iopub.status.busy": "2023-08-07T10:38:28.489992Z",
     "iopub.status.idle": "2023-08-07T10:38:28.494756Z",
     "shell.execute_reply": "2023-08-07T10:38:28.493573Z"
    },
    "papermill": {
     "duration": 0.012895,
     "end_time": "2023-08-07T10:38:28.497509",
     "exception": false,
     "start_time": "2023-08-07T10:38:28.484614",
     "status": "completed"
    },
    "tags": []
   },
   "outputs": [],
   "source": [
    "#select location,max(cast(total_deaths as int)) as death_total\n",
    "#from sqlproject..coviddeaths\n",
    "#where continent is not null\n",
    "#group by location\n",
    "#order by death_total desc\n"
   ]
  },
  {
   "cell_type": "markdown",
   "id": "9625f30e",
   "metadata": {
    "papermill": {
     "duration": 0.003573,
     "end_time": "2023-08-07T10:38:28.505040",
     "exception": false,
     "start_time": "2023-08-07T10:38:28.501467",
     "status": "completed"
    },
    "tags": []
   },
   "source": [
    "***Global death percentage ***"
   ]
  },
  {
   "cell_type": "code",
   "execution_count": 3,
   "id": "2a4b45dc",
   "metadata": {
    "execution": {
     "iopub.execute_input": "2023-08-07T10:38:28.514698Z",
     "iopub.status.busy": "2023-08-07T10:38:28.514258Z",
     "iopub.status.idle": "2023-08-07T10:38:28.519422Z",
     "shell.execute_reply": "2023-08-07T10:38:28.518226Z"
    },
    "papermill": {
     "duration": 0.013005,
     "end_time": "2023-08-07T10:38:28.522040",
     "exception": false,
     "start_time": "2023-08-07T10:38:28.509035",
     "status": "completed"
    },
    "tags": []
   },
   "outputs": [],
   "source": [
    "#Select SUM(new_cases) as total_cases, SUM(cast(new_deaths as int)) as total_deaths, SUM(cast(new_deaths as int))/SUM(New_Cases)*100 as DeathPercentage\n",
    "#From sqlproject..coviddeaths\n",
    "#where continent is not null \n",
    "#and location not in ('World','European Union','International')\n",
    "#order by 1,2\n"
   ]
  },
  {
   "cell_type": "markdown",
   "id": "aec51078",
   "metadata": {
    "papermill": {
     "duration": 0.003727,
     "end_time": "2023-08-07T10:38:28.529840",
     "exception": false,
     "start_time": "2023-08-07T10:38:28.526113",
     "status": "completed"
    },
    "tags": []
   },
   "source": [
    "***Tableau visualizations***"
   ]
  },
  {
   "cell_type": "markdown",
   "id": "72bbe9b1",
   "metadata": {
    "papermill": {
     "duration": 0.003612,
     "end_time": "2023-08-07T10:38:28.537417",
     "exception": false,
     "start_time": "2023-08-07T10:38:28.533805",
     "status": "completed"
    },
    "tags": []
   },
   "source": [
    "Once we get the required data we can export it as csv and upload it into Tableau to make it into a dashboard "
   ]
  },
  {
   "cell_type": "code",
   "execution_count": 4,
   "id": "945cc2d6",
   "metadata": {
    "_kg_hide-input": true,
    "execution": {
     "iopub.execute_input": "2023-08-07T10:38:28.547701Z",
     "iopub.status.busy": "2023-08-07T10:38:28.546855Z",
     "iopub.status.idle": "2023-08-07T10:38:28.562884Z",
     "shell.execute_reply": "2023-08-07T10:38:28.561731Z"
    },
    "papermill": {
     "duration": 0.02421,
     "end_time": "2023-08-07T10:38:28.565486",
     "exception": false,
     "start_time": "2023-08-07T10:38:28.541276",
     "status": "completed"
    },
    "tags": []
   },
   "outputs": [
    {
     "data": {
      "text/html": [
       "<div class='tableauPlaceholder' id='viz1690959255628' style='position: relative'><noscript><a href='#'><img alt='Dashboard 1 ' src='https:&#47;&#47;public.tableau.com&#47;static&#47;images&#47;Co&#47;CovidDashboard_16908764307150&#47;Dashboard1&#47;1_rss.png' style='border: none' /></a></noscript><object class='tableauViz'  style='display:none;'><param name='host_url' value='https%3A%2F%2Fpublic.tableau.com%2F' /> <param name='embed_code_version' value='3' /> <param name='site_root' value='' /><param name='name' value='CovidDashboard_16908764307150&#47;Dashboard1' /><param name='tabs' value='no' /><param name='toolbar' value='yes' /><param name='static_image' value='https:&#47;&#47;public.tableau.com&#47;static&#47;images&#47;Co&#47;CovidDashboard_16908764307150&#47;Dashboard1&#47;1.png' /> <param name='animate_transition' value='yes' /><param name='display_static_image' value='yes' /><param name='display_spinner' value='yes' /><param name='display_overlay' value='yes' /><param name='display_count' value='yes' /><param name='language' value='en-US' /></object></div>                <script type='text/javascript'>                    var divElement = document.getElementById('viz1690959255628');                    var vizElement = divElement.getElementsByTagName('object')[0];                    if ( divElement.offsetWidth > 800 ) { vizElement.style.width='1000px';vizElement.style.height='827px';} else if ( divElement.offsetWidth > 500 ) { vizElement.style.width='1000px';vizElement.style.height='827px';} else { vizElement.style.width='100%';vizElement.style.height='1027px';}                     var scriptElement = document.createElement('script');                    scriptElement.src = 'https://public.tableau.com/javascripts/api/viz_v1.js';                    vizElement.parentNode.insertBefore(scriptElement, vizElement);                </script>\n"
      ],
      "text/plain": [
       "<IPython.core.display.HTML object>"
      ]
     },
     "metadata": {},
     "output_type": "display_data"
    }
   ],
   "source": [
    "%%HTML\n",
    "<div class='tableauPlaceholder' id='viz1690959255628' style='position: relative'><noscript><a href='#'><img alt='Dashboard 1 ' src='https:&#47;&#47;public.tableau.com&#47;static&#47;images&#47;Co&#47;CovidDashboard_16908764307150&#47;Dashboard1&#47;1_rss.png' style='border: none' /></a></noscript><object class='tableauViz'  style='display:none;'><param name='host_url' value='https%3A%2F%2Fpublic.tableau.com%2F' /> <param name='embed_code_version' value='3' /> <param name='site_root' value='' /><param name='name' value='CovidDashboard_16908764307150&#47;Dashboard1' /><param name='tabs' value='no' /><param name='toolbar' value='yes' /><param name='static_image' value='https:&#47;&#47;public.tableau.com&#47;static&#47;images&#47;Co&#47;CovidDashboard_16908764307150&#47;Dashboard1&#47;1.png' /> <param name='animate_transition' value='yes' /><param name='display_static_image' value='yes' /><param name='display_spinner' value='yes' /><param name='display_overlay' value='yes' /><param name='display_count' value='yes' /><param name='language' value='en-US' /></object></div>                <script type='text/javascript'>                    var divElement = document.getElementById('viz1690959255628');                    var vizElement = divElement.getElementsByTagName('object')[0];                    if ( divElement.offsetWidth > 800 ) { vizElement.style.width='1000px';vizElement.style.height='827px';} else if ( divElement.offsetWidth > 500 ) { vizElement.style.width='1000px';vizElement.style.height='827px';} else { vizElement.style.width='100%';vizElement.style.height='1027px';}                     var scriptElement = document.createElement('script');                    scriptElement.src = 'https://public.tableau.com/javascripts/api/viz_v1.js';                    vizElement.parentNode.insertBefore(scriptElement, vizElement);                </script>"
   ]
  }
 ],
 "metadata": {
  "kernelspec": {
   "display_name": "Python 3",
   "language": "python",
   "name": "python3"
  },
  "language_info": {
   "codemirror_mode": {
    "name": "ipython",
    "version": 3
   },
   "file_extension": ".py",
   "mimetype": "text/x-python",
   "name": "python",
   "nbconvert_exporter": "python",
   "pygments_lexer": "ipython3",
   "version": "3.10.12"
  },
  "papermill": {
   "default_parameters": {},
   "duration": 12.865642,
   "end_time": "2023-08-07T10:38:29.491860",
   "environment_variables": {},
   "exception": null,
   "input_path": "__notebook__.ipynb",
   "output_path": "__notebook__.ipynb",
   "parameters": {},
   "start_time": "2023-08-07T10:38:16.626218",
   "version": "2.4.0"
  }
 },
 "nbformat": 4,
 "nbformat_minor": 5
}
